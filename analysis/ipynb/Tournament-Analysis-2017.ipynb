{
 "cells": [
  {
   "cell_type": "code",
   "execution_count": 1,
   "id": "44d664fc",
   "metadata": {},
   "outputs": [],
   "source": [
    "import pandas as pd\n",
    "import numpy as np"
   ]
  },
  {
   "cell_type": "code",
   "execution_count": 2,
   "id": "8e826f6c",
   "metadata": {},
   "outputs": [],
   "source": [
    "df = pd.read_csv('../data/match-details/2017.csv')\n",
    "df.head()\n",
    "final = []"
   ]
  },
  {
   "cell_type": "code",
   "execution_count": 3,
   "id": "a6dba40a",
   "metadata": {},
   "outputs": [
    {
     "data": {
      "text/plain": [
       "(191, 232)"
      ]
     },
     "execution_count": 3,
     "metadata": {},
     "output_type": "execute_result"
    }
   ],
   "source": [
    "df.shape"
   ]
  },
  {
   "cell_type": "code",
   "execution_count": 4,
   "id": "30cf66a3",
   "metadata": {},
   "outputs": [
    {
     "data": {
      "text/html": [
       "<div>\n",
       "<style scoped>\n",
       "    .dataframe tbody tr th:only-of-type {\n",
       "        vertical-align: middle;\n",
       "    }\n",
       "\n",
       "    .dataframe tbody tr th {\n",
       "        vertical-align: top;\n",
       "    }\n",
       "\n",
       "    .dataframe thead th {\n",
       "        text-align: right;\n",
       "    }\n",
       "</style>\n",
       "<table border=\"1\" class=\"dataframe\">\n",
       "  <thead>\n",
       "    <tr style=\"text-align: right;\">\n",
       "      <th></th>\n",
       "      <th>match_id</th>\n",
       "      <th>result</th>\n",
       "      <th>Ban_T1_1</th>\n",
       "      <th>Ban_T1_2</th>\n",
       "      <th>Ban_T1_3</th>\n",
       "      <th>Ban_T1_4</th>\n",
       "      <th>Ban_T1_5</th>\n",
       "      <th>Ban_T2_1</th>\n",
       "      <th>Ban_T2_2</th>\n",
       "      <th>Ban_T2_3</th>\n",
       "      <th>...</th>\n",
       "      <th>Pick_T1_1</th>\n",
       "      <th>Pick_T1_2</th>\n",
       "      <th>Pick_T1_3</th>\n",
       "      <th>Pick_T1_4</th>\n",
       "      <th>Pick_T1_5</th>\n",
       "      <th>Pick_T2_1</th>\n",
       "      <th>Pick_T2_2</th>\n",
       "      <th>Pick_T2_3</th>\n",
       "      <th>Pick_T2_4</th>\n",
       "      <th>Pick_T2_5</th>\n",
       "    </tr>\n",
       "  </thead>\n",
       "  <tbody>\n",
       "    <tr>\n",
       "      <th>0</th>\n",
       "      <td>3362113115</td>\n",
       "      <td>Radiant</td>\n",
       "      <td>91.0</td>\n",
       "      <td>7.0</td>\n",
       "      <td>61.0</td>\n",
       "      <td>80.0</td>\n",
       "      <td>106.0</td>\n",
       "      <td>114.0</td>\n",
       "      <td>13.0</td>\n",
       "      <td>43.0</td>\n",
       "      <td>...</td>\n",
       "      <td>60.0</td>\n",
       "      <td>77.0</td>\n",
       "      <td>65.0</td>\n",
       "      <td>68.0</td>\n",
       "      <td>73.0</td>\n",
       "      <td>100.0</td>\n",
       "      <td>92.0</td>\n",
       "      <td>99.0</td>\n",
       "      <td>63.0</td>\n",
       "      <td>74.0</td>\n",
       "    </tr>\n",
       "    <tr>\n",
       "      <th>1</th>\n",
       "      <td>3362175204</td>\n",
       "      <td>Radiant</td>\n",
       "      <td>13.0</td>\n",
       "      <td>60.0</td>\n",
       "      <td>65.0</td>\n",
       "      <td>88.0</td>\n",
       "      <td>55.0</td>\n",
       "      <td>91.0</td>\n",
       "      <td>7.0</td>\n",
       "      <td>36.0</td>\n",
       "      <td>...</td>\n",
       "      <td>90.0</td>\n",
       "      <td>99.0</td>\n",
       "      <td>68.0</td>\n",
       "      <td>70.0</td>\n",
       "      <td>114.0</td>\n",
       "      <td>77.0</td>\n",
       "      <td>73.0</td>\n",
       "      <td>32.0</td>\n",
       "      <td>31.0</td>\n",
       "      <td>16.0</td>\n",
       "    </tr>\n",
       "    <tr>\n",
       "      <th>2</th>\n",
       "      <td>3362247584</td>\n",
       "      <td>Dire</td>\n",
       "      <td>13.0</td>\n",
       "      <td>60.0</td>\n",
       "      <td>55.0</td>\n",
       "      <td>77.0</td>\n",
       "      <td>34.0</td>\n",
       "      <td>91.0</td>\n",
       "      <td>90.0</td>\n",
       "      <td>61.0</td>\n",
       "      <td>...</td>\n",
       "      <td>68.0</td>\n",
       "      <td>41.0</td>\n",
       "      <td>28.0</td>\n",
       "      <td>80.0</td>\n",
       "      <td>106.0</td>\n",
       "      <td>7.0</td>\n",
       "      <td>87.0</td>\n",
       "      <td>107.0</td>\n",
       "      <td>18.0</td>\n",
       "      <td>25.0</td>\n",
       "    </tr>\n",
       "    <tr>\n",
       "      <th>3</th>\n",
       "      <td>3362331228</td>\n",
       "      <td>Radiant</td>\n",
       "      <td>13.0</td>\n",
       "      <td>7.0</td>\n",
       "      <td>45.0</td>\n",
       "      <td>77.0</td>\n",
       "      <td>6.0</td>\n",
       "      <td>88.0</td>\n",
       "      <td>31.0</td>\n",
       "      <td>63.0</td>\n",
       "      <td>...</td>\n",
       "      <td>16.0</td>\n",
       "      <td>87.0</td>\n",
       "      <td>40.0</td>\n",
       "      <td>102.0</td>\n",
       "      <td>76.0</td>\n",
       "      <td>9.0</td>\n",
       "      <td>89.0</td>\n",
       "      <td>23.0</td>\n",
       "      <td>53.0</td>\n",
       "      <td>98.0</td>\n",
       "    </tr>\n",
       "    <tr>\n",
       "      <th>4</th>\n",
       "      <td>3362390555</td>\n",
       "      <td>Dire</td>\n",
       "      <td>88.0</td>\n",
       "      <td>31.0</td>\n",
       "      <td>65.0</td>\n",
       "      <td>18.0</td>\n",
       "      <td>75.0</td>\n",
       "      <td>13.0</td>\n",
       "      <td>7.0</td>\n",
       "      <td>53.0</td>\n",
       "      <td>...</td>\n",
       "      <td>16.0</td>\n",
       "      <td>77.0</td>\n",
       "      <td>87.0</td>\n",
       "      <td>33.0</td>\n",
       "      <td>36.0</td>\n",
       "      <td>107.0</td>\n",
       "      <td>27.0</td>\n",
       "      <td>39.0</td>\n",
       "      <td>99.0</td>\n",
       "      <td>4.0</td>\n",
       "    </tr>\n",
       "  </tbody>\n",
       "</table>\n",
       "<p>5 rows × 22 columns</p>\n",
       "</div>"
      ],
      "text/plain": [
       "     match_id   result  Ban_T1_1  Ban_T1_2  Ban_T1_3  Ban_T1_4  Ban_T1_5  \\\n",
       "0  3362113115  Radiant      91.0       7.0      61.0      80.0     106.0   \n",
       "1  3362175204  Radiant      13.0      60.0      65.0      88.0      55.0   \n",
       "2  3362247584     Dire      13.0      60.0      55.0      77.0      34.0   \n",
       "3  3362331228  Radiant      13.0       7.0      45.0      77.0       6.0   \n",
       "4  3362390555     Dire      88.0      31.0      65.0      18.0      75.0   \n",
       "\n",
       "   Ban_T2_1  Ban_T2_2  Ban_T2_3  ...  Pick_T1_1  Pick_T1_2  Pick_T1_3  \\\n",
       "0     114.0      13.0      43.0  ...       60.0       77.0       65.0   \n",
       "1      91.0       7.0      36.0  ...       90.0       99.0       68.0   \n",
       "2      91.0      90.0      61.0  ...       68.0       41.0       28.0   \n",
       "3      88.0      31.0      63.0  ...       16.0       87.0       40.0   \n",
       "4      13.0       7.0      53.0  ...       16.0       77.0       87.0   \n",
       "\n",
       "   Pick_T1_4  Pick_T1_5  Pick_T2_1  Pick_T2_2  Pick_T2_3  Pick_T2_4  Pick_T2_5  \n",
       "0       68.0       73.0      100.0       92.0       99.0       63.0       74.0  \n",
       "1       70.0      114.0       77.0       73.0       32.0       31.0       16.0  \n",
       "2       80.0      106.0        7.0       87.0      107.0       18.0       25.0  \n",
       "3      102.0       76.0        9.0       89.0       23.0       53.0       98.0  \n",
       "4       33.0       36.0      107.0       27.0       39.0       99.0        4.0  \n",
       "\n",
       "[5 rows x 22 columns]"
      ]
     },
     "execution_count": 4,
     "metadata": {},
     "output_type": "execute_result"
    }
   ],
   "source": [
    "\n",
    "df1 = pd.read_csv('../data/drafting/International_2017_drafting.csv')\n",
    "\n",
    "df1.head()"
   ]
  },
  {
   "cell_type": "code",
   "execution_count": 5,
   "id": "97d4d6d1",
   "metadata": {},
   "outputs": [
    {
     "data": {
      "text/plain": [
       "{1: 'antimage',\n",
       " 2: 'axe',\n",
       " 3: 'bane',\n",
       " 4: 'bloodseeker',\n",
       " 5: 'crystal_maiden',\n",
       " 6: 'drow_ranger',\n",
       " 7: 'earthshaker',\n",
       " 8: 'juggernaut',\n",
       " 9: 'mirana',\n",
       " 11: 'nevermore',\n",
       " 10: 'morphling',\n",
       " 12: 'phantom_lancer',\n",
       " 13: 'puck',\n",
       " 14: 'pudge',\n",
       " 15: 'razor',\n",
       " 16: 'sand_king',\n",
       " 17: 'storm_spirit',\n",
       " 18: 'sven',\n",
       " 19: 'tiny',\n",
       " 20: 'vengefulspirit',\n",
       " 21: 'windrunner',\n",
       " 22: 'zuus',\n",
       " 23: 'kunkka',\n",
       " 25: 'lina',\n",
       " 31: 'lich',\n",
       " 26: 'lion',\n",
       " 27: 'shadow_shaman',\n",
       " 28: 'slardar',\n",
       " 29: 'tidehunter',\n",
       " 30: 'witch_doctor',\n",
       " 32: 'riki',\n",
       " 33: 'enigma',\n",
       " 34: 'tinker',\n",
       " 35: 'sniper',\n",
       " 36: 'necrolyte',\n",
       " 37: 'warlock',\n",
       " 38: 'beastmaster',\n",
       " 39: 'queenofpain',\n",
       " 40: 'venomancer',\n",
       " 41: 'faceless_void',\n",
       " 42: 'skeleton_king',\n",
       " 43: 'death_prophet',\n",
       " 44: 'phantom_assassin',\n",
       " 45: 'pugna',\n",
       " 46: 'templar_assassin',\n",
       " 47: 'viper',\n",
       " 48: 'luna',\n",
       " 49: 'dragon_knight',\n",
       " 50: 'dazzle',\n",
       " 51: 'rattletrap',\n",
       " 52: 'leshrac',\n",
       " 53: 'furion',\n",
       " 54: 'life_stealer',\n",
       " 55: 'dark_seer',\n",
       " 56: 'clinkz',\n",
       " 57: 'omniknight',\n",
       " 58: 'enchantress',\n",
       " 59: 'huskar',\n",
       " 60: 'night_stalker',\n",
       " 61: 'broodmother',\n",
       " 62: 'bounty_hunter',\n",
       " 63: 'weaver',\n",
       " 64: 'jakiro',\n",
       " 65: 'batrider',\n",
       " 66: 'chen',\n",
       " 67: 'spectre',\n",
       " 69: 'doom_bringer',\n",
       " 68: 'ancient_apparition',\n",
       " 70: 'ursa',\n",
       " 71: 'spirit_breaker',\n",
       " 72: 'gyrocopter',\n",
       " 73: 'alchemist',\n",
       " 74: 'invoker',\n",
       " 75: 'silencer',\n",
       " 76: 'obsidian_destroyer',\n",
       " 77: 'lycan',\n",
       " 78: 'brewmaster',\n",
       " 79: 'shadow_demon',\n",
       " 80: 'lone_druid',\n",
       " 81: 'chaos_knight',\n",
       " 82: 'meepo',\n",
       " 83: 'treant',\n",
       " 84: 'ogre_magi',\n",
       " 85: 'undying',\n",
       " 86: 'rubick',\n",
       " 87: 'disruptor',\n",
       " 88: 'nyx_assassin',\n",
       " 89: 'naga_siren',\n",
       " 90: 'keeper_of_the_light',\n",
       " 91: 'wisp',\n",
       " 92: 'visage',\n",
       " 93: 'slark',\n",
       " 94: 'medusa',\n",
       " 95: 'troll_warlord',\n",
       " 96: 'centaur',\n",
       " 97: 'magnataur',\n",
       " 98: 'shredder',\n",
       " 99: 'bristleback',\n",
       " 100: 'tusk',\n",
       " 101: 'skywrath_mage',\n",
       " 102: 'abaddon',\n",
       " 103: 'elder_titan',\n",
       " 104: 'legion_commander',\n",
       " 106: 'ember_spirit',\n",
       " 107: 'earth_spirit',\n",
       " 109: 'terrorblade',\n",
       " 110: 'phoenix',\n",
       " 111: 'oracle',\n",
       " 105: 'techies',\n",
       " 112: 'winter_wyvern',\n",
       " 113: 'arc_warden',\n",
       " 108: 'abyssal_underlord',\n",
       " 114: 'monkey_king',\n",
       " 120: 'pangolier',\n",
       " 119: 'dark_willow',\n",
       " 121: 'grimstroke',\n",
       " 129: 'mars',\n",
       " 126: 'void_spirit',\n",
       " 128: 'snapfire',\n",
       " 123: 'hoodwink',\n",
       " 135: 'dawnbreaker',\n",
       " 136: 'marci'}"
      ]
     },
     "execution_count": 5,
     "metadata": {},
     "output_type": "execute_result"
    }
   ],
   "source": [
    "df2 = pd.read_csv('../data/hero-names/hero_name.csv')\n",
    "hero_name={}\n",
    "for i in range(len(df2)):\n",
    "    hero_name[df2.loc[i,'heroid']] = df2.loc[i,'hero']\n",
    "hero_name"
   ]
  },
  {
   "cell_type": "code",
   "execution_count": 6,
   "id": "7ee0c113",
   "metadata": {},
   "outputs": [
    {
     "data": {
      "text/plain": [
       "1910"
      ]
     },
     "execution_count": 6,
     "metadata": {},
     "output_type": "execute_result"
    }
   ],
   "source": [
    "hero_list = np.array([])\n",
    "for i in range(1,11):\n",
    "    hero_list = np.concatenate([hero_list,(df['Player_'+str(i)+'_hero_id']).to_numpy()])\n",
    "len(hero_list)"
   ]
  },
  {
   "cell_type": "code",
   "execution_count": 7,
   "id": "b8ee3dcc",
   "metadata": {},
   "outputs": [
    {
     "name": "stdout",
     "output_type": "stream",
     "text": [
      "No of Unique Heroes picked :107\n",
      "\n",
      "{'earthshaker': 70, 'sand_king': 69, 'batrider': 62, 'puck': 61, 'night_stalker': 51, 'faceless_void': 46, 'nyx_assassin': 45, 'lich': 44, 'lycan': 43, 'queenofpain': 40, 'earth_spirit': 40, 'sven': 39, 'shadow_shaman': 36, 'rattletrap': 33, 'ancient_apparition': 33, 'kunkka': 32, 'silencer': 32, 'necrolyte': 31, 'furion': 30, 'legion_commander': 30, 'death_prophet': 29, 'venomancer': 28, 'dark_seer': 28, 'rubick': 28, 'oracle': 28, 'phantom_lancer': 27, 'dazzle': 27, 'weaver': 27, 'mirana': 25, 'disruptor': 25, 'ember_spirit': 25, 'troll_warlord': 23, 'invoker': 21, 'witch_doctor': 20, 'dragon_knight': 20, 'winter_wyvern': 20, 'tusk': 19, 'ursa': 18, 'bristleback': 18, 'bloodseeker': 17, 'keeper_of_the_light': 17, 'visage': 17, 'antimage': 16, 'drow_ranger': 16, 'tidehunter': 16, 'pugna': 16, 'naga_siren': 16, 'lina': 15, 'slardar': 15, 'enigma': 15, 'spirit_breaker': 15, 'wisp': 15, 'magnataur': 15, 'life_stealer': 14, 'doom_bringer': 14, 'alchemist': 14, 'shredder': 14, 'terrorblade': 14, 'juggernaut': 12, 'morphling': 12, 'templar_assassin': 12, 'chaos_knight': 12, 'monkey_king': 12, 'crystal_maiden': 11, 'razor': 11, 'storm_spirit': 11, 'lone_druid': 10, 'medusa': 10, 'tinker': 9, 'axe': 8, 'bounty_hunter': 8, 'shadow_demon': 8, 'centaur': 8, 'nevermore': 7, 'beastmaster': 7, 'phantom_assassin': 7, 'viper': 7, 'luna': 7, 'enchantress': 7, 'brewmaster': 7, 'sniper': 6, 'broodmother': 6, 'obsidian_destroyer': 6, 'elder_titan': 6, 'warlock': 5, 'leshrac': 5, 'jakiro': 5, 'ogre_magi': 5, 'zuus': 4, 'riki': 4, 'clinkz': 4, 'omniknight': 4, 'phoenix': 4, 'vengefulspirit': 3, 'huskar': 3, 'gyrocopter': 3, 'abyssal_underlord': 3, 'arc_warden': 3, 'windrunner': 2, 'chen': 2, 'treant': 2, 'slark': 2, 'abaddon': 2, 'pudge': 1, 'meepo': 1, 'undying': 1, 'skywrath_mage': 1}\n"
     ]
    }
   ],
   "source": [
    "unique_hero,count = np.unique(hero_list,return_counts=True)\n",
    "st = 'No of Unique Heroes picked :' + str(len(unique_hero)) + '\\n'\n",
    "print(st)\n",
    "final.append(st)\n",
    "\n",
    "temp = {int(unique_hero[i]) : int(count[i]) for i in range (len(unique_hero)) }\n",
    "hero_count = {hero_name[k]: v for k, v in sorted(temp.items(), key=lambda item: item[1], reverse = True)}\n",
    "\n",
    "print(hero_count)\n"
   ]
  },
  {
   "cell_type": "code",
   "execution_count": 8,
   "id": "514b983f",
   "metadata": {},
   "outputs": [
    {
     "data": {
      "text/plain": [
       "1910"
      ]
     },
     "execution_count": 8,
     "metadata": {},
     "output_type": "execute_result"
    }
   ],
   "source": [
    "ban_hero_list = np.array([])\n",
    "for i in range(1,6):\n",
    "    ban_hero_list = np.concatenate([ban_hero_list,(df1['Ban_T1_'+str(i)]).to_numpy()])\n",
    "    \n",
    "    ban_hero_list = np.concatenate([ban_hero_list,(df1['Ban_T2_'+str(i)]).to_numpy()])\n",
    "len(ban_hero_list)"
   ]
  },
  {
   "cell_type": "code",
   "execution_count": 9,
   "id": "b421ad82",
   "metadata": {},
   "outputs": [
    {
     "name": "stdout",
     "output_type": "stream",
     "text": [
      "No of Unique Heroes Banned :97\n",
      "\n",
      "{'night_stalker': 107, 'nyx_assassin': 104, 'batrider': 87, 'puck': 78, 'wisp': 69, 'sven': 64, 'lich': 60, 'death_prophet': 52, 'silencer': 43, 'lycan': 43, 'faceless_void': 42, 'queenofpain': 40, 'drow_ranger': 39, 'earthshaker': 39, 'phantom_lancer': 38, 'furion': 37, 'antimage': 36, 'venomancer': 34, 'dark_seer': 33, 'ancient_apparition': 31, 'earth_spirit': 31, 'kunkka': 30, 'weaver': 29, 'bloodseeker': 27, 'pugna': 26, 'sand_king': 25, 'enigma': 25, 'broodmother': 25, 'viper': 24, 'keeper_of_the_light': 23, 'storm_spirit': 22, 'invoker': 22, 'alchemist': 21, 'legion_commander': 21, 'dragon_knight': 20, 'terrorblade': 20, 'templar_assassin': 19, 'necrolyte': 18, 'huskar': 17, 'ursa': 17, 'ember_spirit': 17, 'lone_druid': 16, 'razor': 15, 'rattletrap': 15, 'troll_warlord': 15, 'tidehunter': 14, 'medusa': 14, 'bristleback': 14, 'winter_wyvern': 13, 'life_stealer': 12, 'tinker': 11, 'shredder': 11, 'chaos_knight': 10, 'meepo': 10, 'rubick': 10, 'naga_siren': 10, 'lina': 9, 'obsidian_destroyer': 8, 'disruptor': 8, 'magnataur': 8, 'morphling': 7, 'sniper': 7, 'arc_warden': 7, 'shadow_shaman': 6, 'enchantress': 6, 'ogre_magi': 6, 'oracle': 6, 'juggernaut': 5, 'beastmaster': 5, 'dazzle': 5, 'bounty_hunter': 5, 'brewmaster': 5, 'visage': 5, 'axe': 4, 'nevermore': 4, 'witch_doctor': 4, 'phantom_assassin': 4, 'omniknight': 4, 'gyrocopter': 4, 'zuus': 3, 'luna': 3, 'slark': 3, 'elder_titan': 3, 'monkey_king': 3, 'mirana': 2, 'chen': 2, 'doom_bringer': 2, 'centaur': 2, 'tusk': 2, 'lion': 1, 'riki': 1, 'warlock': 1, 'leshrac': 1, 'clinkz': 1, 'jakiro': 1, 'shadow_demon': 1, 'treant': 1}\n"
     ]
    }
   ],
   "source": [
    "unique_ban_hero,ban_count = np.unique(ban_hero_list,return_counts=True)\n",
    "st = 'No of Unique Heroes Banned :'+ str(len(unique_ban_hero)) + '\\n'\n",
    "print(st)\n",
    "final.append(st)\n",
    "\n",
    "\n",
    "temp_ban = {int(unique_ban_hero[i]) : int(ban_count[i]) for i in range (len(unique_ban_hero)) }\n",
    "ban_hero_count = {hero_name[k]: v for k, v in sorted(temp_ban.items(), key=lambda item: item[1], reverse = True)}\n",
    "\n",
    "print(ban_hero_count)\n"
   ]
  },
  {
   "cell_type": "code",
   "execution_count": 10,
   "id": "747deb61",
   "metadata": {},
   "outputs": [
    {
     "name": "stdout",
     "output_type": "stream",
     "text": [
      "Most Kills in a match are104 in Match id3354219214\n",
      "\n"
     ]
    }
   ],
   "source": [
    "df2 = df.copy(deep=True)\n",
    "df2['Total Kills'] = df2['Radiant_score'] + df2['Dire_score']\n",
    "df2 = df2[['Match_id','Radiant_score','Dire_score','Total Kills']]\n",
    "most_kills = df2.iloc[df2['Total Kills'].argmax()]\n",
    "st = 'Most Kills in a match are ' + str(most_kills[3]) + ' in Match id ' + str(most_kills[0]) + '\\n' \n",
    "print(st)\n",
    "final.append(st)"
   ]
  },
  {
   "cell_type": "code",
   "execution_count": 11,
   "id": "b7b950bb",
   "metadata": {},
   "outputs": [
    {
     "name": "stdout",
     "output_type": "stream",
     "text": [
      "Longest match in Tournament is2 H 8 M 8 S for Match id3356083896\n",
      "\n"
     ]
    }
   ],
   "source": [
    "df3 = df[['Match_id','Duration']]\n",
    "longest_duration = df3.iloc[df3['Duration'].argmax()]\n",
    "hours = int(longest_duration[1]/3600)\n",
    "minutes = int((longest_duration[1] - hours*3600)/60)\n",
    "seconds = int(longest_duration[1] - (hours*3600 + minutes*60))\n",
    "\n",
    "st = 'Longest match in Tournament is' + str(hours) + ' H ' + str(minutes) + ' M '  + str(seconds) + ' S for Match id' + str(longest_duration[0]) + '\\n'\n",
    "final.append(st)\n",
    "print(st)"
   ]
  },
  {
   "cell_type": "code",
   "execution_count": 12,
   "id": "4c5b7fba",
   "metadata": {},
   "outputs": [
    {
     "name": "stdout",
     "output_type": "stream",
     "text": [
      "Shortest match in Tournament is0 H 15 M 12 S for Match id3358044227\n",
      "\n"
     ]
    }
   ],
   "source": [
    "df3 = df[['Match_id','Duration']]\n",
    "longest_duration = df3.iloc[df3['Duration'].argmin()]\n",
    "hours = int(longest_duration[1]/3600)\n",
    "minutes = int((longest_duration[1] - hours*3600)/60)\n",
    "seconds = int(longest_duration[1] - (hours*3600 + minutes*60))\n",
    "\n",
    "st = 'Shortest match in Tournament is' + str(hours) + ' H ' + str(minutes) + ' M ' + str(seconds) + ' S for Match id' + str(longest_duration[0]) + '\\n'\n",
    "final.append(st)\n",
    "print(st)"
   ]
  },
  {
   "cell_type": "code",
   "execution_count": 13,
   "id": "425eeae1",
   "metadata": {},
   "outputs": [
    {
     "name": "stdout",
     "output_type": "stream",
     "text": [
      "Match id : 3354219214 Hero name: queenofpain Total kills 25\n",
      "\n"
     ]
    }
   ],
   "source": [
    "hero_kill_temp=[]\n",
    "for i in range(1,11):\n",
    "    hero_kill_temp.append(list(df.iloc[df['Player_'+str(i)+'_kills'].argmax(),[0,22*(i-1)+2,22*(i-1)+11]]))\n",
    "\n",
    "hero_kill_sorted = [[a,hero_name[b],c] for a,b,c in sorted(hero_kill_temp, key=lambda item: item[2], reverse = True)]\n",
    "\n",
    "\n",
    "st = 'Match id : '+str(hero_kill_sorted[0][0]) +' Hero name: ' +str(hero_kill_sorted[0][1]) + ' Total kills '+ str(hero_kill_sorted[0][2]) + '\\n'\n",
    "final.append(st)\n",
    "print(st) "
   ]
  },
  {
   "cell_type": "code",
   "execution_count": 14,
   "id": "b3beb223",
   "metadata": {},
   "outputs": [
    {
     "name": "stdout",
     "output_type": "stream",
     "text": [
      "Match id : 3354345479 Hero name: pugna Total deaths 20\n",
      "\n"
     ]
    }
   ],
   "source": [
    "hero_death_temp=[]\n",
    "for i in range(1,11):\n",
    "    hero_death_temp.append(list(df.iloc[df['Player_'+str(i)+'_deaths'].argmax(),[0,22*(i-1)+2,22*(i-1)+12]]))\n",
    "\n",
    "hero_death_sorted = [[a,hero_name[b],c] for a,b,c in sorted(hero_death_temp, key=lambda item: item[2], reverse = True)]\n",
    "\n",
    "\n",
    "st = 'Match id : '+str(hero_death_sorted[0][0]) +' Hero name: ' +str(hero_death_sorted[0][1]) + ' Total deaths '+ str(hero_death_sorted[0][2]) + '\\n'\n",
    "final.append(st)\n",
    "print(st)\n"
   ]
  },
  {
   "cell_type": "code",
   "execution_count": 15,
   "id": "65a4f757",
   "metadata": {},
   "outputs": [
    {
     "name": "stdout",
     "output_type": "stream",
     "text": [
      "Match id : 3357885749 Hero name: alchemist Total GPM 1064\n",
      "\n"
     ]
    }
   ],
   "source": [
    "hero_gpm_temp=[]\n",
    "for i in range(1,11):\n",
    "    hero_gpm_temp.append(list(df.iloc[df['Player_'+str(i)+'_gold_per_min'].argmax(),[0,22*(i-1)+2,22*(i-1)+16]]))\n",
    "\n",
    "hero_gpm_sorted = [[a,hero_name[b],c] for a,b,c in sorted(hero_gpm_temp, key=lambda item: item[2], reverse = True)]\n",
    "\n",
    "\n",
    "st = 'Match id : '+str(hero_gpm_sorted[0][0]) +' Hero name: ' +str(hero_gpm_sorted[0][1]) + ' Total GPM '+ str(hero_gpm_sorted[0][2]) + '\\n'\n",
    "final.append(st)\n",
    "print(st)"
   ]
  },
  {
   "cell_type": "code",
   "execution_count": 17,
   "id": "94551e2d",
   "metadata": {},
   "outputs": [],
   "source": [
    "file1 = open('../output/Tournament-Analysis-2017.txt','w')\n",
    "file1.writelines(final)\n",
    "file1.close()"
   ]
  },
  {
   "cell_type": "code",
   "execution_count": null,
   "id": "86bf7b7e",
   "metadata": {},
   "outputs": [],
   "source": []
  }
 ],
 "metadata": {
  "kernelspec": {
   "display_name": "Python 3",
   "language": "python",
   "name": "python3"
  },
  "language_info": {
   "codemirror_mode": {
    "name": "ipython",
    "version": 3
   },
   "file_extension": ".py",
   "mimetype": "text/x-python",
   "name": "python",
   "nbconvert_exporter": "python",
   "pygments_lexer": "ipython3",
   "version": "3.8.8"
  }
 },
 "nbformat": 4,
 "nbformat_minor": 5
}
