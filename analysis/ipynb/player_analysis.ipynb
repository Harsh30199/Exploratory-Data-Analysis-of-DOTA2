{
 "cells": [
  {
   "cell_type": "code",
   "execution_count": 1,
   "id": "705937eb",
   "metadata": {},
   "outputs": [],
   "source": [
    "import pandas as pd"
   ]
  },
  {
   "cell_type": "code",
   "execution_count": 2,
   "id": "9613bc85",
   "metadata": {},
   "outputs": [],
   "source": [
    "yearList = [2016, 2017, 2018, 2019, 2021]"
   ]
  },
  {
   "cell_type": "code",
   "execution_count": 3,
   "id": "d3fd7620",
   "metadata": {},
   "outputs": [],
   "source": [
    "def highLow(data__, button, descend, avg):\n",
    "    avg__ = []\n",
    "    tempavg__ = []\n",
    "    retList = []\n",
    "    for pid in pidList:\n",
    "        for i_d in idList:\n",
    "            buttonval, buttoncount = 0, 0\n",
    "            filt1 = data__[pid] == i_d\n",
    "            count = data__[filt1].count()[0]\n",
    "            if count == 0:\n",
    "                continue\n",
    "            else:\n",
    "                if pid[8] == '_':\n",
    "                    buttonval += data__[filt1][str(pid[:9])+button].sum()\n",
    "                    buttoncount += data__[filt1][str(pid[:9])+button].count()\n",
    "                    tempavg__.append([i_d, buttonval, buttoncount])\n",
    "                elif pid[8] == '0':\n",
    "                    buttonval += data__[filt1][str(pid[:10])+button].sum()\n",
    "                    buttoncount += data__[filt1][str(pid[:10])+button].count()\n",
    "                    tempavg__.append([i_d, buttonval, buttoncount])\n",
    "    for i_d in idList:\n",
    "        tempone = 0\n",
    "        temptwo = 0\n",
    "        for item in tempavg__:\n",
    "            if i_d == item[0]:\n",
    "                tempone += item[1]\n",
    "                temptwo += item[2]\n",
    "        avg__.append([i_d, tempone, temptwo])\n",
    "    for item in avg__:\n",
    "        if avg:\n",
    "            retList.append([item[0], item[1]/item[2]])\n",
    "        else:\n",
    "            retList.append([item[0], item[1]])\n",
    "    retList.sort(key = lambda x : x[1], reverse = descend)\n",
    "    del tempavg__\n",
    "    del avg__\n",
    "    return retList"
   ]
  },
  {
   "cell_type": "code",
   "execution_count": 4,
   "id": "09af59de",
   "metadata": {},
   "outputs": [],
   "source": [
    "attri_list = ['highest_kill_avg_pid', 'highest_kill_avg', 'most_kills_pid', 'most_kills', 'lowest_death_avg_pid',\n",
    "              'lowest_death_avg', 'highest_assists_avg_pid', 'highest_assists_avg', 'most_assists_pid',\n",
    "              'most_assists', 'most_last_hits_pid', 'most_last_hits', 'most_last_hit_avg_pid', 'most_last_hit_avg',\n",
    "              'most_gpm_pid', 'most_gpm',  'highest_gpm_avg_pid', 'highest_gpm_avg']"
   ]
  },
  {
   "cell_type": "code",
   "execution_count": 5,
   "id": "df1d7f0b",
   "metadata": {},
   "outputs": [],
   "source": [
    "attri_list = ['Player_id', 'highest_kill_avg', 'most_kills','lowest_death_avg', 'highest_assists_avg',\n",
    "              'most_assists', 'most_last_hits', 'most_gpm', 'highest_gpm_avg']"
   ]
  },
  {
   "cell_type": "code",
   "execution_count": 6,
   "id": "243e5e35",
   "metadata": {},
   "outputs": [],
   "source": [
    "for year in yearList:\n",
    "    data__ = pd.read_csv('../data/match-details/' +str(year)+'.csv')\n",
    "    columnlist = data__.columns.tolist()\n",
    "    \n",
    "    pidList = []\n",
    "    for itemm in columnlist:\n",
    "        if itemm.endswith('_playerid'):\n",
    "            pidList.append(itemm)\n",
    "            \n",
    "    idList = []\n",
    "    for pid in pidList:\n",
    "        tempList = data__[pid].unique().tolist()\n",
    "        for item in tempList:\n",
    "            if item not in idList:\n",
    "                idList.append(item)\n",
    "    \n",
    "    highest_kill_avg = highLow(data__, 'kills', True, True)\n",
    "    most_kills = highLow(data__, 'kills', True, False)\n",
    "    lowest_death_avg = highLow(data__, 'deaths', False, True)\n",
    "    highest_assists_avg = highLow(data__, 'assists', True, True)\n",
    "    most_assists = highLow(data__, 'assists', True, False)\n",
    "    most_last_hits = highLow(data__, 'last_hits', True, False)\n",
    "    most_last_hit_avg = highLow(data__, 'last_hits', True, True)\n",
    "    most_gpm = highLow(data__, 'gold_per_min', True, False)\n",
    "    highest_gpm_avg = highLow(data__, 'gold_per_min', True, True)\n",
    "    \n",
    "    df = pd.DataFrame(highest_kill_avg, columns = ['Player_id', 'avg_kills'])\n",
    "    df = df.merge(pd.DataFrame(most_kills, columns = ['Player_id', 'total_kills']))\n",
    "    df = df.merge(pd.DataFrame(lowest_death_avg, columns = ['Player_id', 'lowest_death_avg']))\n",
    "    df = df.merge(pd.DataFrame(highest_assists_avg, columns = ['Player_id', 'highest_assists_avg']))\n",
    "    df = df.merge(pd.DataFrame(most_assists, columns = ['Player_id', 'total_assists']))\n",
    "    df = df.merge(pd.DataFrame(most_last_hits, columns = ['Player_id', 'total_last_hits']))\n",
    "    df = df.merge(pd.DataFrame(most_last_hit_avg, columns = ['Player_id', 'most_last_hit_avg']))\n",
    "    df = df.merge(pd.DataFrame(most_gpm, columns = ['Player_id', 'total_gpm']))\n",
    "    df = df.merge(pd.DataFrame(highest_gpm_avg, columns = ['Player_id', 'highest_gpm_avg']))\n",
    "    \n",
    "    \n",
    "#     csv_data = pd.DataFrame(columns = attri_list)\n",
    "   \n",
    "#     for i in range(len(highest_kill_avg)):\n",
    "#         csv_data.loc[len(csv_data.index)] = [highest_kill_avg[i][0], highest_kill_avg[i][1],\n",
    "#                                             most_kills[i][0], most_kills[i][1],\n",
    "#                                             lowest_death_avg[i][0], lowest_death_avg[i][1],\n",
    "#                                             highest_assists_avg[i][0], highest_assists_avg[i][1],\n",
    "#                                             most_assists[i][0], most_assists[i][1],\n",
    "#                                             most_last_hits[i][0], most_last_hits[i][1],\n",
    "#                                             most_last_hit_avg[i][0], most_last_hit_avg[i][1],\n",
    "#                                             most_gpm[i][0], most_gpm[i][1], highest_gpm_avg[i][0],\n",
    "#                                             highest_gpm_avg[i][1]]\n",
    "    \n",
    "    df.to_csv('../output/'+str(year)+'_most_highest.csv', index = False)"
   ]
  },
  {
   "cell_type": "code",
   "execution_count": null,
   "id": "99a9c138",
   "metadata": {},
   "outputs": [],
   "source": []
  }
 ],
 "metadata": {
  "kernelspec": {
   "display_name": "Python 3 (ipykernel)",
   "language": "python",
   "name": "python3"
  },
  "language_info": {
   "codemirror_mode": {
    "name": "ipython",
    "version": 3
   },
   "file_extension": ".py",
   "mimetype": "text/x-python",
   "name": "python",
   "nbconvert_exporter": "python",
   "pygments_lexer": "ipython3",
   "version": "3.8.8"
  }
 },
 "nbformat": 4,
 "nbformat_minor": 5
}
