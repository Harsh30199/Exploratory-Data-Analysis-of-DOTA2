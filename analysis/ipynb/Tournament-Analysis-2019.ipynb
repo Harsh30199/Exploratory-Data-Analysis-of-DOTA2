{
 "cells": [
  {
   "cell_type": "code",
   "execution_count": 28,
   "id": "44d664fc",
   "metadata": {},
   "outputs": [],
   "source": [
    "import pandas as pd\n",
    "import numpy as np"
   ]
  },
  {
   "cell_type": "code",
   "execution_count": 29,
   "id": "8e826f6c",
   "metadata": {},
   "outputs": [],
   "source": [
    "df = pd.read_csv('../data/match-details/2019.csv')\n",
    "df.head()\n",
    "final = []"
   ]
  },
  {
   "cell_type": "code",
   "execution_count": 30,
   "id": "a6dba40a",
   "metadata": {},
   "outputs": [
    {
     "data": {
      "text/plain": [
       "(193, 232)"
      ]
     },
     "execution_count": 30,
     "metadata": {},
     "output_type": "execute_result"
    }
   ],
   "source": [
    "df.shape"
   ]
  },
  {
   "cell_type": "code",
   "execution_count": 31,
   "id": "90af6690",
   "metadata": {},
   "outputs": [
    {
     "data": {
      "text/html": [
       "<div>\n",
       "<style scoped>\n",
       "    .dataframe tbody tr th:only-of-type {\n",
       "        vertical-align: middle;\n",
       "    }\n",
       "\n",
       "    .dataframe tbody tr th {\n",
       "        vertical-align: top;\n",
       "    }\n",
       "\n",
       "    .dataframe thead th {\n",
       "        text-align: right;\n",
       "    }\n",
       "</style>\n",
       "<table border=\"1\" class=\"dataframe\">\n",
       "  <thead>\n",
       "    <tr style=\"text-align: right;\">\n",
       "      <th></th>\n",
       "      <th>match_id</th>\n",
       "      <th>result</th>\n",
       "      <th>Ban_T1_1</th>\n",
       "      <th>Ban_T1_2</th>\n",
       "      <th>Ban_T1_3</th>\n",
       "      <th>Ban_T1_4</th>\n",
       "      <th>Ban_T1_5</th>\n",
       "      <th>Ban_T1_6</th>\n",
       "      <th>Ban_T2_1</th>\n",
       "      <th>Ban_T2_2</th>\n",
       "      <th>...</th>\n",
       "      <th>Pick_T1_1</th>\n",
       "      <th>Pick_T1_2</th>\n",
       "      <th>Pick_T1_3</th>\n",
       "      <th>Pick_T1_4</th>\n",
       "      <th>Pick_T1_5</th>\n",
       "      <th>Pick_T2_1</th>\n",
       "      <th>Pick_T2_2</th>\n",
       "      <th>Pick_T2_3</th>\n",
       "      <th>Pick_T2_4</th>\n",
       "      <th>Pick_T2_5</th>\n",
       "    </tr>\n",
       "  </thead>\n",
       "  <tbody>\n",
       "    <tr>\n",
       "      <th>0</th>\n",
       "      <td>4.976790e+09</td>\n",
       "      <td>Radiant</td>\n",
       "      <td>79.0</td>\n",
       "      <td>96.0</td>\n",
       "      <td>97.0</td>\n",
       "      <td>54.0</td>\n",
       "      <td>23.0</td>\n",
       "      <td>17.0</td>\n",
       "      <td>52.0</td>\n",
       "      <td>58.0</td>\n",
       "      <td>...</td>\n",
       "      <td>29.0</td>\n",
       "      <td>86.0</td>\n",
       "      <td>72.0</td>\n",
       "      <td>84.0</td>\n",
       "      <td>18.0</td>\n",
       "      <td>75.0</td>\n",
       "      <td>7.0</td>\n",
       "      <td>78.0</td>\n",
       "      <td>10.0</td>\n",
       "      <td>50.0</td>\n",
       "    </tr>\n",
       "    <tr>\n",
       "      <th>1</th>\n",
       "      <td>4.976841e+09</td>\n",
       "      <td>Dire</td>\n",
       "      <td>58.0</td>\n",
       "      <td>52.0</td>\n",
       "      <td>73.0</td>\n",
       "      <td>10.0</td>\n",
       "      <td>54.0</td>\n",
       "      <td>41.0</td>\n",
       "      <td>97.0</td>\n",
       "      <td>96.0</td>\n",
       "      <td>...</td>\n",
       "      <td>103.0</td>\n",
       "      <td>72.0</td>\n",
       "      <td>26.0</td>\n",
       "      <td>120.0</td>\n",
       "      <td>109.0</td>\n",
       "      <td>79.0</td>\n",
       "      <td>29.0</td>\n",
       "      <td>23.0</td>\n",
       "      <td>9.0</td>\n",
       "      <td>44.0</td>\n",
       "    </tr>\n",
       "    <tr>\n",
       "      <th>2</th>\n",
       "      <td>4.976922e+09</td>\n",
       "      <td>Radiant</td>\n",
       "      <td>103.0</td>\n",
       "      <td>84.0</td>\n",
       "      <td>29.0</td>\n",
       "      <td>106.0</td>\n",
       "      <td>43.0</td>\n",
       "      <td>23.0</td>\n",
       "      <td>66.0</td>\n",
       "      <td>9.0</td>\n",
       "      <td>...</td>\n",
       "      <td>68.0</td>\n",
       "      <td>16.0</td>\n",
       "      <td>19.0</td>\n",
       "      <td>54.0</td>\n",
       "      <td>39.0</td>\n",
       "      <td>58.0</td>\n",
       "      <td>97.0</td>\n",
       "      <td>30.0</td>\n",
       "      <td>8.0</td>\n",
       "      <td>25.0</td>\n",
       "    </tr>\n",
       "    <tr>\n",
       "      <th>3</th>\n",
       "      <td>4.977018e+09</td>\n",
       "      <td>Dire</td>\n",
       "      <td>103.0</td>\n",
       "      <td>84.0</td>\n",
       "      <td>73.0</td>\n",
       "      <td>52.0</td>\n",
       "      <td>43.0</td>\n",
       "      <td>27.0</td>\n",
       "      <td>66.0</td>\n",
       "      <td>9.0</td>\n",
       "      <td>...</td>\n",
       "      <td>68.0</td>\n",
       "      <td>19.0</td>\n",
       "      <td>99.0</td>\n",
       "      <td>7.0</td>\n",
       "      <td>15.0</td>\n",
       "      <td>79.0</td>\n",
       "      <td>29.0</td>\n",
       "      <td>23.0</td>\n",
       "      <td>54.0</td>\n",
       "      <td>86.0</td>\n",
       "    </tr>\n",
       "    <tr>\n",
       "      <th>4</th>\n",
       "      <td>4.977114e+09</td>\n",
       "      <td>Dire</td>\n",
       "      <td>103.0</td>\n",
       "      <td>84.0</td>\n",
       "      <td>73.0</td>\n",
       "      <td>29.0</td>\n",
       "      <td>18.0</td>\n",
       "      <td>43.0</td>\n",
       "      <td>66.0</td>\n",
       "      <td>9.0</td>\n",
       "      <td>...</td>\n",
       "      <td>7.0</td>\n",
       "      <td>121.0</td>\n",
       "      <td>8.0</td>\n",
       "      <td>19.0</td>\n",
       "      <td>61.0</td>\n",
       "      <td>79.0</td>\n",
       "      <td>52.0</td>\n",
       "      <td>37.0</td>\n",
       "      <td>96.0</td>\n",
       "      <td>94.0</td>\n",
       "    </tr>\n",
       "  </tbody>\n",
       "</table>\n",
       "<p>5 rows × 24 columns</p>\n",
       "</div>"
      ],
      "text/plain": [
       "       match_id   result  Ban_T1_1  Ban_T1_2  Ban_T1_3  Ban_T1_4  Ban_T1_5  \\\n",
       "0  4.976790e+09  Radiant      79.0      96.0      97.0      54.0      23.0   \n",
       "1  4.976841e+09     Dire      58.0      52.0      73.0      10.0      54.0   \n",
       "2  4.976922e+09  Radiant     103.0      84.0      29.0     106.0      43.0   \n",
       "3  4.977018e+09     Dire     103.0      84.0      73.0      52.0      43.0   \n",
       "4  4.977114e+09     Dire     103.0      84.0      73.0      29.0      18.0   \n",
       "\n",
       "   Ban_T1_6  Ban_T2_1  Ban_T2_2  ...  Pick_T1_1  Pick_T1_2  Pick_T1_3  \\\n",
       "0      17.0      52.0      58.0  ...       29.0       86.0       72.0   \n",
       "1      41.0      97.0      96.0  ...      103.0       72.0       26.0   \n",
       "2      23.0      66.0       9.0  ...       68.0       16.0       19.0   \n",
       "3      27.0      66.0       9.0  ...       68.0       19.0       99.0   \n",
       "4      43.0      66.0       9.0  ...        7.0      121.0        8.0   \n",
       "\n",
       "   Pick_T1_4  Pick_T1_5  Pick_T2_1  Pick_T2_2  Pick_T2_3  Pick_T2_4  Pick_T2_5  \n",
       "0       84.0       18.0       75.0        7.0       78.0       10.0       50.0  \n",
       "1      120.0      109.0       79.0       29.0       23.0        9.0       44.0  \n",
       "2       54.0       39.0       58.0       97.0       30.0        8.0       25.0  \n",
       "3        7.0       15.0       79.0       29.0       23.0       54.0       86.0  \n",
       "4       19.0       61.0       79.0       52.0       37.0       96.0       94.0  \n",
       "\n",
       "[5 rows x 24 columns]"
      ]
     },
     "execution_count": 31,
     "metadata": {},
     "output_type": "execute_result"
    }
   ],
   "source": [
    "\n",
    "df1 = pd.read_csv('../data/drafting/International_2019_drafting.csv')\n",
    "\n",
    "df1.head()"
   ]
  },
  {
   "cell_type": "code",
   "execution_count": 32,
   "id": "d3748872",
   "metadata": {},
   "outputs": [
    {
     "data": {
      "text/plain": [
       "{1: 'antimage',\n",
       " 2: 'axe',\n",
       " 3: 'bane',\n",
       " 4: 'bloodseeker',\n",
       " 5: 'crystal_maiden',\n",
       " 6: 'drow_ranger',\n",
       " 7: 'earthshaker',\n",
       " 8: 'juggernaut',\n",
       " 9: 'mirana',\n",
       " 11: 'nevermore',\n",
       " 10: 'morphling',\n",
       " 12: 'phantom_lancer',\n",
       " 13: 'puck',\n",
       " 14: 'pudge',\n",
       " 15: 'razor',\n",
       " 16: 'sand_king',\n",
       " 17: 'storm_spirit',\n",
       " 18: 'sven',\n",
       " 19: 'tiny',\n",
       " 20: 'vengefulspirit',\n",
       " 21: 'windrunner',\n",
       " 22: 'zuus',\n",
       " 23: 'kunkka',\n",
       " 25: 'lina',\n",
       " 31: 'lich',\n",
       " 26: 'lion',\n",
       " 27: 'shadow_shaman',\n",
       " 28: 'slardar',\n",
       " 29: 'tidehunter',\n",
       " 30: 'witch_doctor',\n",
       " 32: 'riki',\n",
       " 33: 'enigma',\n",
       " 34: 'tinker',\n",
       " 35: 'sniper',\n",
       " 36: 'necrolyte',\n",
       " 37: 'warlock',\n",
       " 38: 'beastmaster',\n",
       " 39: 'queenofpain',\n",
       " 40: 'venomancer',\n",
       " 41: 'faceless_void',\n",
       " 42: 'skeleton_king',\n",
       " 43: 'death_prophet',\n",
       " 44: 'phantom_assassin',\n",
       " 45: 'pugna',\n",
       " 46: 'templar_assassin',\n",
       " 47: 'viper',\n",
       " 48: 'luna',\n",
       " 49: 'dragon_knight',\n",
       " 50: 'dazzle',\n",
       " 51: 'rattletrap',\n",
       " 52: 'leshrac',\n",
       " 53: 'furion',\n",
       " 54: 'life_stealer',\n",
       " 55: 'dark_seer',\n",
       " 56: 'clinkz',\n",
       " 57: 'omniknight',\n",
       " 58: 'enchantress',\n",
       " 59: 'huskar',\n",
       " 60: 'night_stalker',\n",
       " 61: 'broodmother',\n",
       " 62: 'bounty_hunter',\n",
       " 63: 'weaver',\n",
       " 64: 'jakiro',\n",
       " 65: 'batrider',\n",
       " 66: 'chen',\n",
       " 67: 'spectre',\n",
       " 69: 'doom_bringer',\n",
       " 68: 'ancient_apparition',\n",
       " 70: 'ursa',\n",
       " 71: 'spirit_breaker',\n",
       " 72: 'gyrocopter',\n",
       " 73: 'alchemist',\n",
       " 74: 'invoker',\n",
       " 75: 'silencer',\n",
       " 76: 'obsidian_destroyer',\n",
       " 77: 'lycan',\n",
       " 78: 'brewmaster',\n",
       " 79: 'shadow_demon',\n",
       " 80: 'lone_druid',\n",
       " 81: 'chaos_knight',\n",
       " 82: 'meepo',\n",
       " 83: 'treant',\n",
       " 84: 'ogre_magi',\n",
       " 85: 'undying',\n",
       " 86: 'rubick',\n",
       " 87: 'disruptor',\n",
       " 88: 'nyx_assassin',\n",
       " 89: 'naga_siren',\n",
       " 90: 'keeper_of_the_light',\n",
       " 91: 'wisp',\n",
       " 92: 'visage',\n",
       " 93: 'slark',\n",
       " 94: 'medusa',\n",
       " 95: 'troll_warlord',\n",
       " 96: 'centaur',\n",
       " 97: 'magnataur',\n",
       " 98: 'shredder',\n",
       " 99: 'bristleback',\n",
       " 100: 'tusk',\n",
       " 101: 'skywrath_mage',\n",
       " 102: 'abaddon',\n",
       " 103: 'elder_titan',\n",
       " 104: 'legion_commander',\n",
       " 106: 'ember_spirit',\n",
       " 107: 'earth_spirit',\n",
       " 109: 'terrorblade',\n",
       " 110: 'phoenix',\n",
       " 111: 'oracle',\n",
       " 105: 'techies',\n",
       " 112: 'winter_wyvern',\n",
       " 113: 'arc_warden',\n",
       " 108: 'abyssal_underlord',\n",
       " 114: 'monkey_king',\n",
       " 120: 'pangolier',\n",
       " 119: 'dark_willow',\n",
       " 121: 'grimstroke',\n",
       " 129: 'mars',\n",
       " 126: 'void_spirit',\n",
       " 128: 'snapfire',\n",
       " 123: 'hoodwink',\n",
       " 135: 'dawnbreaker',\n",
       " 136: 'marci'}"
      ]
     },
     "execution_count": 32,
     "metadata": {},
     "output_type": "execute_result"
    }
   ],
   "source": [
    "df2 = pd.read_csv('../data/hero-names/hero_name.csv')\n",
    "hero_name={}\n",
    "for i in range(len(df2)):\n",
    "    hero_name[df2.loc[i,'heroid']] = df2.loc[i,'hero']\n",
    "hero_name"
   ]
  },
  {
   "cell_type": "code",
   "execution_count": 33,
   "id": "7ee0c113",
   "metadata": {},
   "outputs": [
    {
     "data": {
      "text/plain": [
       "1930"
      ]
     },
     "execution_count": 33,
     "metadata": {},
     "output_type": "execute_result"
    }
   ],
   "source": [
    "hero_list = np.array([])\n",
    "for i in range(1,11):\n",
    "    hero_list = np.concatenate([hero_list,(df['Player_'+str(i)+'_hero_id']).to_numpy()])\n",
    "len(hero_list)"
   ]
  },
  {
   "cell_type": "code",
   "execution_count": 34,
   "id": "b8ee3dcc",
   "metadata": {},
   "outputs": [
    {
     "name": "stdout",
     "output_type": "stream",
     "text": [
      "No of Unique Heroes picked :114\n",
      "\n",
      "{'elder_titan': 75, 'shadow_demon': 70, 'tiny': 62, 'ogre_magi': 62, 'gyrocopter': 52, 'leshrac': 49, 'mirana': 45, 'kunkka': 45, 'tidehunter': 45, 'sand_king': 42, 'life_stealer': 42, 'ember_spirit': 42, 'rubick': 40, 'crystal_maiden': 37, 'enchantress': 36, 'ancient_apparition': 36, 'sven': 35, 'earthshaker': 33, 'alchemist': 33, 'grimstroke': 33, 'lina': 29, 'shadow_shaman': 29, 'centaur': 27, 'faceless_void': 26, 'skeleton_king': 26, 'invoker': 26, 'slark': 26, 'warlock': 25, 'storm_spirit': 24, 'chen': 24, 'beastmaster': 23, 'axe': 22, 'omniknight': 22, 'abaddon': 22, 'magnataur': 21, 'earth_spirit': 20, 'templar_assassin': 19, 'juggernaut': 18, 'enigma': 18, 'obsidian_destroyer': 18, 'dark_willow': 18, 'jakiro': 17, 'wisp': 16, 'lion': 15, 'witch_doctor': 15, 'death_prophet': 15, 'naga_siren': 15, 'shredder': 15, 'razor': 14, 'pangolier': 14, 'morphling': 13, 'broodmother': 13, 'batrider': 13, 'bristleback': 13, 'oracle': 13, 'windrunner': 12, 'queenofpain': 12, 'phantom_assassin': 12, 'silencer': 11, 'nyx_assassin': 11, 'legion_commander': 11, 'nevermore': 10, 'dragon_knight': 10, 'spectre': 10, 'bane': 9, 'treant': 9, 'tusk': 9, 'medusa': 8, 'troll_warlord': 8, 'arc_warden': 8, 'mars': 8, 'antimage': 7, 'lich': 7, 'pugna': 7, 'weaver': 7, 'meepo': 7, 'terrorblade': 7, 'slardar': 6, 'necrolyte': 6, 'furion': 6, 'lone_druid': 6, 'phoenix': 6, 'monkey_king': 6, 'phantom_lancer': 5, 'pudge': 5, 'vengefulspirit': 5, 'zuus': 5, 'tinker': 5, 'sniper': 5, 'dark_seer': 5, 'visage': 5, 'abyssal_underlord': 5, 'bloodseeker': 4, 'puck': 4, 'viper': 4, 'dazzle': 4, 'disruptor': 4, 'drow_ranger': 3, 'doom_bringer': 3, 'skywrath_mage': 3, 'winter_wyvern': 3, 'venomancer': 2, 'huskar': 2, 'bounty_hunter': 2, 'spirit_breaker': 2, 'brewmaster': 2, 'techies': 2, 'riki': 1, 'luna': 1, 'clinkz': 1, 'night_stalker': 1, 'lycan': 1, 'chaos_knight': 1, 'undying': 1}\n"
     ]
    }
   ],
   "source": [
    "unique_hero,count = np.unique(hero_list,return_counts=True)\n",
    "\n",
    "st = 'No of Unique Heroes picked :' + str(len(unique_hero)) + '\\n'\n",
    "print(st)\n",
    "final.append(st)\n",
    "\n",
    "temp = {int(unique_hero[i]) : int(count[i]) for i in range (len(unique_hero)) }\n",
    "hero_count = {hero_name[k]: v for k, v in sorted(temp.items(), key=lambda item: item[1], reverse = True)}\n",
    "\n",
    "print(hero_count)\n"
   ]
  },
  {
   "cell_type": "code",
   "execution_count": 35,
   "id": "514b983f",
   "metadata": {},
   "outputs": [
    {
     "data": {
      "text/plain": [
       "1930"
      ]
     },
     "execution_count": 35,
     "metadata": {},
     "output_type": "execute_result"
    }
   ],
   "source": [
    "ban_hero_list = np.array([])\n",
    "for i in range(1,6):\n",
    "    ban_hero_list = np.concatenate([ban_hero_list,(df1['Ban_T1_'+str(i)]).to_numpy()])\n",
    "    \n",
    "    ban_hero_list = np.concatenate([ban_hero_list,(df1['Ban_T2_'+str(i)]).to_numpy()])\n",
    "len(ban_hero_list)"
   ]
  },
  {
   "cell_type": "code",
   "execution_count": 36,
   "id": "b421ad82",
   "metadata": {},
   "outputs": [
    {
     "name": "stdout",
     "output_type": "stream",
     "text": [
      "No of Unique Heroes Banned :92\n",
      "\n",
      "No of Unique Heroes Banned : 92\n",
      "\n",
      "{'alchemist': 135, 'enchantress': 130, 'mirana': 94, 'chen': 85, 'shadow_demon': 83, 'leshrac': 76, 'magnataur': 76, 'ogre_magi': 63, 'kunkka': 61, 'elder_titan': 60, 'ancient_apparition': 55, 'life_stealer': 54, 'gyrocopter': 51, 'naga_siren': 50, 'broodmother': 43, 'wisp': 40, 'slark': 38, 'ember_spirit': 38, 'batrider': 35, 'obsidian_destroyer': 33, 'enigma': 31, 'tidehunter': 30, 'tiny': 28, 'omniknight': 27, 'treant': 27, 'faceless_void': 25, 'rubick': 25, 'beastmaster': 24, 'centaur': 21, 'sand_king': 20, 'morphling': 19, 'lina': 19, 'shredder': 19, 'sven': 18, 'lone_druid': 16, 'oracle': 16, 'nyx_assassin': 14, 'razor': 13, 'meepo': 12, 'dark_willow': 12, 'invoker': 11, 'warlock': 10, 'juggernaut': 9, 'spectre': 9, 'storm_spirit': 8, 'shadow_shaman': 8, 'skeleton_king': 8, 'death_prophet': 7, 'axe': 6, 'bloodseeker': 6, 'earthshaker': 6, 'queenofpain': 6, 'pugna': 6, 'dazzle': 6, 'bristleback': 6, 'legion_commander': 6, 'techies': 6, 'pangolier': 6, 'templar_assassin': 5, 'grimstroke': 5, 'bane': 4, 'crystal_maiden': 4, 'puck': 4, 'phantom_assassin': 4, 'dark_seer': 4, 'silencer': 4, 'abaddon': 4, 'arc_warden': 4, 'lion': 3, 'furion': 3, 'spirit_breaker': 3, 'visage': 3, 'earth_spirit': 3, 'antimage': 2, 'tinker': 2, 'necrolyte': 2, 'weaver': 2, 'medusa': 2, 'tusk': 2, 'terrorblade': 2, 'mars': 2, 'pudge': 1, 'slardar': 1, 'viper': 1, 'dragon_knight': 1, 'bounty_hunter': 1, 'jakiro': 1, 'chaos_knight': 1, 'keeper_of_the_light': 1, 'troll_warlord': 1, 'phoenix': 1, 'monkey_king': 1}\n"
     ]
    }
   ],
   "source": [
    "unique_ban_hero,ban_count = np.unique(ban_hero_list,return_counts=True)\n",
    "\n",
    "\n",
    "st = 'No of Unique Heroes Banned :'+ str(len(unique_ban_hero)) + '\\n'\n",
    "print(st)\n",
    "final.append(st)\n",
    "\n",
    "\n",
    "temp_ban = {int(unique_ban_hero[i]) : int(ban_count[i]) for i in range (len(unique_ban_hero)) }\n",
    "ban_hero_count = {hero_name[k]: v for k, v in sorted(temp_ban.items(), key=lambda item: item[1], reverse = True) if k!=0}\n",
    "\n",
    "print('No of Unique Heroes Banned :',len(ban_hero_count),end='\\n\\n')\n",
    "print(ban_hero_count)\n"
   ]
  },
  {
   "cell_type": "code",
   "execution_count": 37,
   "id": "747deb61",
   "metadata": {},
   "outputs": [
    {
     "name": "stdout",
     "output_type": "stream",
     "text": [
      "Most Kills in a match are 96 in Match id 4968150000\n"
     ]
    }
   ],
   "source": [
    "df2 = df.copy(deep=True)\n",
    "df2['Total Kills'] = df2['Radiant_score'] + df2['Dire_score']\n",
    "df2 = df2[['Match_id','Radiant_score','Dire_score','Total Kills']]\n",
    "most_kills = df2.iloc[df2['Total Kills'].argmax()]\n",
    "print('Most Kills in a match are',most_kills[3],'in Match id',most_kills[0])"
   ]
  },
  {
   "cell_type": "code",
   "execution_count": 38,
   "id": "b7b950bb",
   "metadata": {},
   "outputs": [
    {
     "name": "stdout",
     "output_type": "stream",
     "text": [
      "Longest match in Tournament is 1 H 26 M 29 S for Match id 4971343154\n"
     ]
    }
   ],
   "source": [
    "df3 = df[['Match_id','Duration']]\n",
    "longest_duration = df3.iloc[df3['Duration'].argmax()]\n",
    "hours = int(longest_duration[1]/3600)\n",
    "minutes = int((longest_duration[1] - hours*3600)/60)\n",
    "seconds = int(longest_duration[1] - (hours*3600 + minutes*60))\n",
    "\n",
    "st = 'Longest match in Tournament is' + str(hours) + ' H ' + str(minutes) + ' M '  + str(seconds) + ' S for Match id' + str(longest_duration[0]) + '\\n'\n",
    "final.append(st)\n",
    "print(st)"
   ]
  },
  {
   "cell_type": "code",
   "execution_count": 39,
   "id": "4c5b7fba",
   "metadata": {},
   "outputs": [
    {
     "name": "stdout",
     "output_type": "stream",
     "text": [
      "Shortest match in Tournament is 0 H 15 M 8 S for Match id 4973182943\n"
     ]
    }
   ],
   "source": [
    "df3 = df[['Match_id','Duration']]\n",
    "longest_duration = df3.iloc[df3['Duration'].argmin()]\n",
    "hours = int(longest_duration[1]/3600)\n",
    "minutes = int((longest_duration[1] - hours*3600)/60)\n",
    "seconds = int(longest_duration[1] - (hours*3600 + minutes*60))\n",
    "\n",
    "st = 'Shortest match in Tournament is' + str(hours) + ' H ' + str(minutes) + ' M ' + str(seconds) + ' S for Match id' + str(longest_duration[0]) + '\\n'\n",
    "final.append(st)\n",
    "print(st)\n"
   ]
  },
  {
   "cell_type": "code",
   "execution_count": 40,
   "id": "425eeae1",
   "metadata": {},
   "outputs": [
    {
     "data": {
      "text/plain": [
       "[4968150000, 'storm_spirit', 27]"
      ]
     },
     "execution_count": 40,
     "metadata": {},
     "output_type": "execute_result"
    }
   ],
   "source": [
    "hero_kill_temp=[]\n",
    "for i in range(1,11):\n",
    "    hero_kill_temp.append(list(df.iloc[df['Player_'+str(i)+'_kills'].argmax(),[0,22*(i-1)+2,22*(i-1)+11]]))\n",
    "\n",
    "hero_kill_sorted = [[a,hero_name[b],c] for a,b,c in sorted(hero_kill_temp, key=lambda item: item[2], reverse = True)]\n",
    "\n",
    "\n",
    "st = 'Match id : '+str(hero_kill_sorted[0][0]) +' Hero name: ' +str(hero_kill_sorted[0][1]) + ' Total kills '+ str(hero_kill_sorted[0][2]) + '\\n'\n",
    "final.append(st)\n",
    "print(st)"
   ]
  },
  {
   "cell_type": "code",
   "execution_count": 41,
   "id": "b3beb223",
   "metadata": {},
   "outputs": [
    {
     "data": {
      "text/plain": [
       "[4969319314, 'crystal_maiden', 17]"
      ]
     },
     "execution_count": 41,
     "metadata": {},
     "output_type": "execute_result"
    }
   ],
   "source": [
    "hero_death_temp=[]\n",
    "for i in range(1,11):\n",
    "    hero_death_temp.append(list(df.iloc[df['Player_'+str(i)+'_deaths'].argmax(),[0,22*(i-1)+2,22*(i-1)+12]]))\n",
    "\n",
    "hero_death_sorted = [[a,hero_name[b],c] for a,b,c in sorted(hero_death_temp, key=lambda item: item[2], reverse = True)]\n",
    "\n",
    "st = 'Match id : '+str(hero_death_sorted[0][0]) +' Hero name: ' +str(hero_death_sorted[0][1]) + ' Total deaths '+ str(hero_death_sorted[0][2]) + '\\n'\n",
    "final.append(st)\n",
    "print(st)"
   ]
  },
  {
   "cell_type": "code",
   "execution_count": 42,
   "id": "65a4f757",
   "metadata": {},
   "outputs": [
    {
     "data": {
      "text/plain": [
       "[4969186537, 'alchemist', 1176]"
      ]
     },
     "execution_count": 42,
     "metadata": {},
     "output_type": "execute_result"
    }
   ],
   "source": [
    "hero_gpm_temp=[]\n",
    "for i in range(1,11):\n",
    "    hero_gpm_temp.append(list(df.iloc[df['Player_'+str(i)+'_gold_per_min'].argmax(),[0,22*(i-1)+2,22*(i-1)+16]]))\n",
    "\n",
    "hero_gpm_sorted = [[a,hero_name[b],c] for a,b,c in sorted(hero_gpm_temp, key=lambda item: item[2], reverse = True)]\n",
    "\n",
    "st = 'Match id : '+str(hero_gpm_sorted[0][0]) +' Hero name: ' +str(hero_gpm_sorted[0][1]) + ' Total GPM '+ str(hero_gpm_sorted[0][2]) + '\\n'\n",
    "final.append(st)\n",
    "print(st)\n"
   ]
  },
  {
   "cell_type": "code",
   "execution_count": null,
   "id": "94551e2d",
   "metadata": {},
   "outputs": [],
   "source": [
    "file1 = open('../output/Tournament-Analysis-2021.txt','w')\n",
    "file1.writelines(final)\n",
    "file1.close()"
   ]
  }
 ],
 "metadata": {
  "kernelspec": {
   "display_name": "Python 3",
   "language": "python",
   "name": "python3"
  },
  "language_info": {
   "codemirror_mode": {
    "name": "ipython",
    "version": 3
   },
   "file_extension": ".py",
   "mimetype": "text/x-python",
   "name": "python",
   "nbconvert_exporter": "python",
   "pygments_lexer": "ipython3",
   "version": "3.8.8"
  }
 },
 "nbformat": 4,
 "nbformat_minor": 5
}
