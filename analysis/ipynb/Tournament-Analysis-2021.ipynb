{
 "cells": [
  {
   "cell_type": "code",
   "execution_count": 23,
   "id": "9c6b75ce",
   "metadata": {},
   "outputs": [],
   "source": [
    "import pandas as pd\n",
    "import numpy as np"
   ]
  },
  {
   "cell_type": "code",
   "execution_count": 24,
   "id": "d95dc90c",
   "metadata": {},
   "outputs": [],
   "source": [
    "df = pd.read_csv('../data/match-details/2021.csv')\n",
    "df.head()\n",
    "\n",
    "final = []"
   ]
  },
  {
   "cell_type": "code",
   "execution_count": 25,
   "id": "673a649a",
   "metadata": {},
   "outputs": [
    {
     "data": {
      "text/plain": [
       "(194, 312)"
      ]
     },
     "execution_count": 25,
     "metadata": {},
     "output_type": "execute_result"
    }
   ],
   "source": [
    "df.shape"
   ]
  },
  {
   "cell_type": "code",
   "execution_count": 26,
   "id": "e61556ee",
   "metadata": {},
   "outputs": [
    {
     "data": {
      "text/html": [
       "<div>\n",
       "<style scoped>\n",
       "    .dataframe tbody tr th:only-of-type {\n",
       "        vertical-align: middle;\n",
       "    }\n",
       "\n",
       "    .dataframe tbody tr th {\n",
       "        vertical-align: top;\n",
       "    }\n",
       "\n",
       "    .dataframe thead th {\n",
       "        text-align: right;\n",
       "    }\n",
       "</style>\n",
       "<table border=\"1\" class=\"dataframe\">\n",
       "  <thead>\n",
       "    <tr style=\"text-align: right;\">\n",
       "      <th></th>\n",
       "      <th>match_id</th>\n",
       "      <th>result</th>\n",
       "      <th>Ban_T1_1</th>\n",
       "      <th>Ban_T1_2</th>\n",
       "      <th>Ban_T1_3</th>\n",
       "      <th>Ban_T1_4</th>\n",
       "      <th>Ban_T1_5</th>\n",
       "      <th>Ban_T1_6</th>\n",
       "      <th>Ban_T1_7</th>\n",
       "      <th>Ban_T2_1</th>\n",
       "      <th>...</th>\n",
       "      <th>Pick_T1_1</th>\n",
       "      <th>Pick_T1_2</th>\n",
       "      <th>Pick_T1_3</th>\n",
       "      <th>Pick_T1_4</th>\n",
       "      <th>Pick_T1_5</th>\n",
       "      <th>Pick_T2_1</th>\n",
       "      <th>Pick_T2_2</th>\n",
       "      <th>Pick_T2_3</th>\n",
       "      <th>Pick_T2_4</th>\n",
       "      <th>Pick_T2_5</th>\n",
       "    </tr>\n",
       "  </thead>\n",
       "  <tbody>\n",
       "    <tr>\n",
       "      <th>0</th>\n",
       "      <td>6.219448e+09</td>\n",
       "      <td>Radiant</td>\n",
       "      <td>7.0</td>\n",
       "      <td>17.0</td>\n",
       "      <td>18.0</td>\n",
       "      <td>69.0</td>\n",
       "      <td>104.0</td>\n",
       "      <td>60.0</td>\n",
       "      <td>77.0</td>\n",
       "      <td>29.0</td>\n",
       "      <td>...</td>\n",
       "      <td>103.0</td>\n",
       "      <td>129.0</td>\n",
       "      <td>3.0</td>\n",
       "      <td>74.0</td>\n",
       "      <td>10.0</td>\n",
       "      <td>91.0</td>\n",
       "      <td>26.0</td>\n",
       "      <td>114.0</td>\n",
       "      <td>52.0</td>\n",
       "      <td>28.0</td>\n",
       "    </tr>\n",
       "    <tr>\n",
       "      <th>1</th>\n",
       "      <td>6.219498e+09</td>\n",
       "      <td>Dire</td>\n",
       "      <td>7.0</td>\n",
       "      <td>103.0</td>\n",
       "      <td>114.0</td>\n",
       "      <td>25.0</td>\n",
       "      <td>17.0</td>\n",
       "      <td>74.0</td>\n",
       "      <td>39.0</td>\n",
       "      <td>29.0</td>\n",
       "      <td>...</td>\n",
       "      <td>63.0</td>\n",
       "      <td>104.0</td>\n",
       "      <td>128.0</td>\n",
       "      <td>81.0</td>\n",
       "      <td>11.0</td>\n",
       "      <td>69.0</td>\n",
       "      <td>26.0</td>\n",
       "      <td>3.0</td>\n",
       "      <td>10.0</td>\n",
       "      <td>106.0</td>\n",
       "    </tr>\n",
       "    <tr>\n",
       "      <th>2</th>\n",
       "      <td>6.219558e+09</td>\n",
       "      <td>Dire</td>\n",
       "      <td>7.0</td>\n",
       "      <td>69.0</td>\n",
       "      <td>10.0</td>\n",
       "      <td>114.0</td>\n",
       "      <td>25.0</td>\n",
       "      <td>41.0</td>\n",
       "      <td>18.0</td>\n",
       "      <td>29.0</td>\n",
       "      <td>...</td>\n",
       "      <td>19.0</td>\n",
       "      <td>128.0</td>\n",
       "      <td>5.0</td>\n",
       "      <td>8.0</td>\n",
       "      <td>13.0</td>\n",
       "      <td>129.0</td>\n",
       "      <td>110.0</td>\n",
       "      <td>3.0</td>\n",
       "      <td>17.0</td>\n",
       "      <td>67.0</td>\n",
       "    </tr>\n",
       "    <tr>\n",
       "      <th>3</th>\n",
       "      <td>6.219662e+09</td>\n",
       "      <td>Radiant</td>\n",
       "      <td>103.0</td>\n",
       "      <td>97.0</td>\n",
       "      <td>46.0</td>\n",
       "      <td>123.0</td>\n",
       "      <td>63.0</td>\n",
       "      <td>72.0</td>\n",
       "      <td>48.0</td>\n",
       "      <td>19.0</td>\n",
       "      <td>...</td>\n",
       "      <td>114.0</td>\n",
       "      <td>68.0</td>\n",
       "      <td>7.0</td>\n",
       "      <td>10.0</td>\n",
       "      <td>106.0</td>\n",
       "      <td>91.0</td>\n",
       "      <td>129.0</td>\n",
       "      <td>100.0</td>\n",
       "      <td>74.0</td>\n",
       "      <td>70.0</td>\n",
       "    </tr>\n",
       "    <tr>\n",
       "      <th>4</th>\n",
       "      <td>6.219755e+09</td>\n",
       "      <td>Dire</td>\n",
       "      <td>128.0</td>\n",
       "      <td>68.0</td>\n",
       "      <td>7.0</td>\n",
       "      <td>8.0</td>\n",
       "      <td>17.0</td>\n",
       "      <td>23.0</td>\n",
       "      <td>106.0</td>\n",
       "      <td>19.0</td>\n",
       "      <td>...</td>\n",
       "      <td>103.0</td>\n",
       "      <td>114.0</td>\n",
       "      <td>104.0</td>\n",
       "      <td>56.0</td>\n",
       "      <td>123.0</td>\n",
       "      <td>58.0</td>\n",
       "      <td>97.0</td>\n",
       "      <td>21.0</td>\n",
       "      <td>70.0</td>\n",
       "      <td>34.0</td>\n",
       "    </tr>\n",
       "  </tbody>\n",
       "</table>\n",
       "<p>5 rows × 26 columns</p>\n",
       "</div>"
      ],
      "text/plain": [
       "       match_id   result  Ban_T1_1  Ban_T1_2  Ban_T1_3  Ban_T1_4  Ban_T1_5  \\\n",
       "0  6.219448e+09  Radiant       7.0      17.0      18.0      69.0     104.0   \n",
       "1  6.219498e+09     Dire       7.0     103.0     114.0      25.0      17.0   \n",
       "2  6.219558e+09     Dire       7.0      69.0      10.0     114.0      25.0   \n",
       "3  6.219662e+09  Radiant     103.0      97.0      46.0     123.0      63.0   \n",
       "4  6.219755e+09     Dire     128.0      68.0       7.0       8.0      17.0   \n",
       "\n",
       "   Ban_T1_6  Ban_T1_7  Ban_T2_1  ...  Pick_T1_1  Pick_T1_2  Pick_T1_3  \\\n",
       "0      60.0      77.0      29.0  ...      103.0      129.0        3.0   \n",
       "1      74.0      39.0      29.0  ...       63.0      104.0      128.0   \n",
       "2      41.0      18.0      29.0  ...       19.0      128.0        5.0   \n",
       "3      72.0      48.0      19.0  ...      114.0       68.0        7.0   \n",
       "4      23.0     106.0      19.0  ...      103.0      114.0      104.0   \n",
       "\n",
       "   Pick_T1_4  Pick_T1_5  Pick_T2_1  Pick_T2_2  Pick_T2_3  Pick_T2_4  Pick_T2_5  \n",
       "0       74.0       10.0       91.0       26.0      114.0       52.0       28.0  \n",
       "1       81.0       11.0       69.0       26.0        3.0       10.0      106.0  \n",
       "2        8.0       13.0      129.0      110.0        3.0       17.0       67.0  \n",
       "3       10.0      106.0       91.0      129.0      100.0       74.0       70.0  \n",
       "4       56.0      123.0       58.0       97.0       21.0       70.0       34.0  \n",
       "\n",
       "[5 rows x 26 columns]"
      ]
     },
     "execution_count": 26,
     "metadata": {},
     "output_type": "execute_result"
    }
   ],
   "source": [
    "\n",
    "df1 = pd.read_csv('../data/drafting/International_2021_drafting.csv')\n",
    "\n",
    "df1.head()"
   ]
  },
  {
   "cell_type": "code",
   "execution_count": 27,
   "id": "cd299ef5",
   "metadata": {},
   "outputs": [
    {
     "data": {
      "text/plain": [
       "{1: 'antimage',\n",
       " 2: 'axe',\n",
       " 3: 'bane',\n",
       " 4: 'bloodseeker',\n",
       " 5: 'crystal_maiden',\n",
       " 6: 'drow_ranger',\n",
       " 7: 'earthshaker',\n",
       " 8: 'juggernaut',\n",
       " 9: 'mirana',\n",
       " 11: 'nevermore',\n",
       " 10: 'morphling',\n",
       " 12: 'phantom_lancer',\n",
       " 13: 'puck',\n",
       " 14: 'pudge',\n",
       " 15: 'razor',\n",
       " 16: 'sand_king',\n",
       " 17: 'storm_spirit',\n",
       " 18: 'sven',\n",
       " 19: 'tiny',\n",
       " 20: 'vengefulspirit',\n",
       " 21: 'windrunner',\n",
       " 22: 'zuus',\n",
       " 23: 'kunkka',\n",
       " 25: 'lina',\n",
       " 31: 'lich',\n",
       " 26: 'lion',\n",
       " 27: 'shadow_shaman',\n",
       " 28: 'slardar',\n",
       " 29: 'tidehunter',\n",
       " 30: 'witch_doctor',\n",
       " 32: 'riki',\n",
       " 33: 'enigma',\n",
       " 34: 'tinker',\n",
       " 35: 'sniper',\n",
       " 36: 'necrolyte',\n",
       " 37: 'warlock',\n",
       " 38: 'beastmaster',\n",
       " 39: 'queenofpain',\n",
       " 40: 'venomancer',\n",
       " 41: 'faceless_void',\n",
       " 42: 'skeleton_king',\n",
       " 43: 'death_prophet',\n",
       " 44: 'phantom_assassin',\n",
       " 45: 'pugna',\n",
       " 46: 'templar_assassin',\n",
       " 47: 'viper',\n",
       " 48: 'luna',\n",
       " 49: 'dragon_knight',\n",
       " 50: 'dazzle',\n",
       " 51: 'rattletrap',\n",
       " 52: 'leshrac',\n",
       " 53: 'furion',\n",
       " 54: 'life_stealer',\n",
       " 55: 'dark_seer',\n",
       " 56: 'clinkz',\n",
       " 57: 'omniknight',\n",
       " 58: 'enchantress',\n",
       " 59: 'huskar',\n",
       " 60: 'night_stalker',\n",
       " 61: 'broodmother',\n",
       " 62: 'bounty_hunter',\n",
       " 63: 'weaver',\n",
       " 64: 'jakiro',\n",
       " 65: 'batrider',\n",
       " 66: 'chen',\n",
       " 67: 'spectre',\n",
       " 69: 'doom_bringer',\n",
       " 68: 'ancient_apparition',\n",
       " 70: 'ursa',\n",
       " 71: 'spirit_breaker',\n",
       " 72: 'gyrocopter',\n",
       " 73: 'alchemist',\n",
       " 74: 'invoker',\n",
       " 75: 'silencer',\n",
       " 76: 'obsidian_destroyer',\n",
       " 77: 'lycan',\n",
       " 78: 'brewmaster',\n",
       " 79: 'shadow_demon',\n",
       " 80: 'lone_druid',\n",
       " 81: 'chaos_knight',\n",
       " 82: 'meepo',\n",
       " 83: 'treant',\n",
       " 84: 'ogre_magi',\n",
       " 85: 'undying',\n",
       " 86: 'rubick',\n",
       " 87: 'disruptor',\n",
       " 88: 'nyx_assassin',\n",
       " 89: 'naga_siren',\n",
       " 90: 'keeper_of_the_light',\n",
       " 91: 'wisp',\n",
       " 92: 'visage',\n",
       " 93: 'slark',\n",
       " 94: 'medusa',\n",
       " 95: 'troll_warlord',\n",
       " 96: 'centaur',\n",
       " 97: 'magnataur',\n",
       " 98: 'shredder',\n",
       " 99: 'bristleback',\n",
       " 100: 'tusk',\n",
       " 101: 'skywrath_mage',\n",
       " 102: 'abaddon',\n",
       " 103: 'elder_titan',\n",
       " 104: 'legion_commander',\n",
       " 106: 'ember_spirit',\n",
       " 107: 'earth_spirit',\n",
       " 109: 'terrorblade',\n",
       " 110: 'phoenix',\n",
       " 111: 'oracle',\n",
       " 105: 'techies',\n",
       " 112: 'winter_wyvern',\n",
       " 113: 'arc_warden',\n",
       " 108: 'abyssal_underlord',\n",
       " 114: 'monkey_king',\n",
       " 120: 'pangolier',\n",
       " 119: 'dark_willow',\n",
       " 121: 'grimstroke',\n",
       " 129: 'mars',\n",
       " 126: 'void_spirit',\n",
       " 128: 'snapfire',\n",
       " 123: 'hoodwink',\n",
       " 135: 'dawnbreaker',\n",
       " 136: 'marci'}"
      ]
     },
     "execution_count": 27,
     "metadata": {},
     "output_type": "execute_result"
    }
   ],
   "source": [
    "df2 = pd.read_csv('../data/hero-names/hero_name.csv')\n",
    "hero_name={}\n",
    "for i in range(len(df2)):\n",
    "    hero_name[df2.loc[i,'heroid']] = df2.loc[i,'hero']\n",
    "hero_name"
   ]
  },
  {
   "cell_type": "code",
   "execution_count": 28,
   "id": "a925369a",
   "metadata": {},
   "outputs": [
    {
     "data": {
      "text/plain": [
       "1940"
      ]
     },
     "execution_count": 28,
     "metadata": {},
     "output_type": "execute_result"
    }
   ],
   "source": [
    "hero_list = np.array([])\n",
    "for i in range(1,11):\n",
    "    hero_list = np.concatenate([hero_list,(df['Player_'+str(i)+'_hero_id']).to_numpy()])\n",
    "len(hero_list)"
   ]
  },
  {
   "cell_type": "code",
   "execution_count": 29,
   "id": "2275b5bf",
   "metadata": {},
   "outputs": [
    {
     "name": "stdout",
     "output_type": "stream",
     "text": [
      "No of Unique Heroes picked :113\n",
      "\n",
      "{'elder_titan': 73, 'tidehunter': 63, 'earthshaker': 61, 'snapfire': 61, 'wisp': 60, 'tiny': 55, 'weaver': 52, 'lion': 48, 'monkey_king': 48, 'storm_spirit': 47, 'magnataur': 44, 'void_spirit': 43, 'mars': 41, 'lina': 40, 'disruptor': 39, 'ember_spirit': 36, 'bane': 32, 'doom_bringer': 31, 'morphling': 30, 'lycan': 30, 'invoker': 29, 'legion_commander': 29, 'medusa': 27, 'silencer': 26, 'spectre': 25, 'phoenix': 25, 'kunkka': 24, 'luna': 23, 'leshrac': 23, 'furion': 23, 'terrorblade': 23, 'ogre_magi': 22, 'sven': 21, 'ursa': 21, 'dragon_knight': 20, 'night_stalker': 20, 'puck': 19, 'gyrocopter': 19, 'sand_king': 18, 'rubick': 18, 'winter_wyvern': 18, 'rattletrap': 17, 'mirana': 16, 'queenofpain': 16, 'templar_assassin': 16, 'faceless_void': 15, 'troll_warlord': 15, 'enchantress': 14, 'pangolier': 14, 'treant': 13, 'dawnbreaker': 13, 'razor': 12, 'clinkz': 12, 'ancient_apparition': 12, 'undying': 12, 'beastmaster': 11, 'skeleton_king': 11, 'life_stealer': 11, 'shredder': 11, 'tinker': 10, 'shadow_demon': 10, 'nyx_assassin': 10, 'skywrath_mage': 10, 'earth_spirit': 10, 'dark_willow': 10, 'nevermore': 9, 'vengefulspirit': 9, 'necrolyte': 9, 'dark_seer': 9, 'bloodseeker': 8, 'juggernaut': 8, 'windrunner': 8, 'slardar': 8, 'venomancer': 8, 'slark': 8, 'tusk': 8, 'abaddon': 8, 'hoodwink': 8, 'crystal_maiden': 7, 'shadow_shaman': 7, 'death_prophet': 6, 'jakiro': 6, 'batrider': 6, 'bristleback': 6, 'witch_doctor': 5, 'sniper': 5, 'phantom_assassin': 5, 'pugna': 5, 'bounty_hunter': 5, 'naga_siren': 5, 'centaur': 5, 'abyssal_underlord': 5, 'oracle': 5, 'drow_ranger': 4, 'phantom_lancer': 4, 'chaos_knight': 4, 'antimage': 3, 'viper': 3, 'brewmaster': 3, 'grimstroke': 3, 'axe': 2, 'lich': 2, 'chen': 2, 'visage': 2, 'pudge': 1, 'riki': 1, 'enigma': 1, 'warlock': 1, 'dazzle': 1, 'omniknight': 1, 'alchemist': 1, 'keeper_of_the_light': 1, 'arc_warden': 1}\n"
     ]
    }
   ],
   "source": [
    "unique_hero,count = np.unique(hero_list,return_counts=True)\n",
    "\n",
    "\n",
    "st = 'No of Unique Heroes picked :' + str(len(unique_hero)) + '\\n'\n",
    "print(st)\n",
    "final.append(st)\n",
    "\n",
    "temp = {int(unique_hero[i]) : int(count[i]) for i in range (len(unique_hero)) }\n",
    "hero_count = {hero_name[k]: v for k, v in sorted(temp.items(), key=lambda item: item[1], reverse = True)}\n",
    "\n",
    "print(hero_count)\n"
   ]
  },
  {
   "cell_type": "code",
   "execution_count": 30,
   "id": "8fcc77bb",
   "metadata": {},
   "outputs": [
    {
     "data": {
      "text/plain": [
       "2716"
      ]
     },
     "execution_count": 30,
     "metadata": {},
     "output_type": "execute_result"
    }
   ],
   "source": [
    "ban_hero_list = np.array([])\n",
    "for i in range(1,8):\n",
    "    ban_hero_list = np.concatenate([ban_hero_list,(df1['Ban_T1_'+str(i)]).to_numpy()])\n",
    "    ban_hero_list = np.concatenate([ban_hero_list,(df1['Ban_T2_'+str(i)]).to_numpy()])\n",
    "len(ban_hero_list)"
   ]
  },
  {
   "cell_type": "code",
   "execution_count": 31,
   "id": "4f44ef09",
   "metadata": {},
   "outputs": [
    {
     "name": "stdout",
     "output_type": "stream",
     "text": [
      "No of Unique Heroes Banned :105\n",
      "\n",
      "{'monkey_king': 140, 'tiny': 132, 'wisp': 115, 'invoker': 113, 'morphling': 86, 'storm_spirit': 82, 'tidehunter': 79, 'weaver': 76, 'lina': 73, 'faceless_void': 67, 'medusa': 59, 'puck': 54, 'ursa': 53, 'sven': 52, 'earthshaker': 48, 'elder_titan': 48, 'doom_bringer': 47, 'lycan': 47, 'mars': 47, 'beastmaster': 44, 'terrorblade': 43, 'snapfire': 42, 'batrider': 41, 'spectre': 41, 'night_stalker': 39, 'ember_spirit': 38, 'templar_assassin': 37, 'slark': 37, 'kunkka': 35, 'queenofpain': 35, 'luna': 34, 'leshrac': 32, 'magnataur': 31, 'void_spirit': 30, 'tinker': 29, 'ancient_apparition': 28, 'troll_warlord': 27, 'life_stealer': 26, 'silencer': 26, 'legion_commander': 26, 'bloodseeker': 24, 'razor': 24, 'venomancer': 22, 'gyrocopter': 22, 'shredder': 22, 'lion': 20, 'juggernaut': 19, 'necrolyte': 19, 'viper': 18, 'bane': 16, 'phantom_lancer': 16, 'dark_seer': 16, 'shadow_demon': 16, 'rubick': 16, 'winter_wyvern': 16, 'sand_king': 15, 'phoenix': 15, 'slardar': 14, 'disruptor': 14, 'antimage': 13, 'furion': 13, 'treant': 11, 'naga_siren': 11, 'pangolier': 11, 'dawnbreaker': 10, 'vengefulspirit': 9, 'dragon_knight': 9, 'nevermore': 8, 'death_prophet': 8, 'rattletrap': 8, 'clinkz': 8, 'abaddon': 8, 'skeleton_king': 7, 'undying': 7, 'nyx_assassin': 7, 'grimstroke': 7, 'mirana': 6, 'phantom_assassin': 5, 'ogre_magi': 5, 'bristleback': 5, 'oracle': 5, 'sniper': 4, 'enchantress': 4, 'bounty_hunter': 4, 'tusk': 4, 'skywrath_mage': 4, 'dark_willow': 4, 'drow_ranger': 3, 'chen': 3, 'hoodwink': 3, 'crystal_maiden': 2, 'brewmaster': 2, 'earth_spirit': 2, 'arc_warden': 2, 'windrunner': 1, 'shadow_shaman': 1, 'riki': 1, 'enigma': 1, 'pugna': 1, 'huskar': 1, 'alchemist': 1, 'chaos_knight': 1, 'visage': 1, 'centaur': 1, 'abyssal_underlord': 1}\n"
     ]
    }
   ],
   "source": [
    "unique_ban_hero,ban_count = np.unique(ban_hero_list,return_counts=True)\n",
    "\n",
    "st = 'No of Unique Heroes Banned :'+ str(len(unique_ban_hero)) + '\\n'\n",
    "print(st)\n",
    "final.append(st)\n",
    "\n",
    "\n",
    "temp_ban = {int(unique_ban_hero[i]) : int(ban_count[i]) for i in range (len(unique_ban_hero)) }\n",
    "ban_hero_count = {hero_name[k]: v for k, v in sorted(temp_ban.items(), key=lambda item: item[1], reverse = True)}\n",
    "\n",
    "print(ban_hero_count)\n"
   ]
  },
  {
   "cell_type": "code",
   "execution_count": 32,
   "id": "c93fe38e",
   "metadata": {},
   "outputs": [
    {
     "name": "stdout",
     "output_type": "stream",
     "text": [
      "Most Kills in a match are 89 in Match id 6213067601\n",
      "\n"
     ]
    }
   ],
   "source": [
    "df2 = df.copy(deep=True)\n",
    "df2['Total Kills'] = df2['Radiant_score'] + df2['Dire_score']\n",
    "df2 = df2[['Match_id','Radiant_score','Dire_score','Total Kills']]\n",
    "most_kills = df2.iloc[df2['Total Kills'].argmax()]\n",
    "\n",
    "st = 'Most Kills in a match are ' + str(most_kills[3]) + ' in Match id ' + str(most_kills[0]) + '\\n' \n",
    "print(st)\n",
    "final.append(st)\n"
   ]
  },
  {
   "cell_type": "code",
   "execution_count": 33,
   "id": "ab3535c2",
   "metadata": {},
   "outputs": [
    {
     "name": "stdout",
     "output_type": "stream",
     "text": [
      "Longest match in Tournament is1 H 4 M 42 S for Match id6213685234\n",
      "\n"
     ]
    }
   ],
   "source": [
    "df3 = df[['Match_id','Duration']]\n",
    "longest_duration = df3.iloc[df3['Duration'].argmax()]\n",
    "hours = int(longest_duration[1]/3600)\n",
    "minutes = int((longest_duration[1] - hours*3600)/60)\n",
    "seconds = int(longest_duration[1] - (hours*3600 + minutes*60))\n",
    "\n",
    "st = 'Longest match in Tournament is' + str(hours) + ' H ' + str(minutes) + ' M '  + str(seconds) + ' S for Match id' + str(longest_duration[0]) + '\\n'\n",
    "final.append(st)\n",
    "print(st)\n"
   ]
  },
  {
   "cell_type": "code",
   "execution_count": 34,
   "id": "4eeb4e2d",
   "metadata": {},
   "outputs": [
    {
     "name": "stdout",
     "output_type": "stream",
     "text": [
      "Shortest match in Tournament is0 H 17 M 5 S for Match id6216526891\n",
      "\n"
     ]
    }
   ],
   "source": [
    "df3 = df[['Match_id','Duration']]\n",
    "longest_duration = df3.iloc[df3['Duration'].argmin()]\n",
    "hours = int(longest_duration[1]/3600)\n",
    "minutes = int((longest_duration[1] - hours*3600)/60)\n",
    "seconds = int(longest_duration[1] - (hours*3600 + minutes*60))\n",
    "\n",
    "st = 'Shortest match in Tournament is' + str(hours) + ' H ' + str(minutes) + ' M ' + str(seconds) + ' S for Match id' + str(longest_duration[0]) + '\\n'\n",
    "final.append(st)\n",
    "print(st)\n"
   ]
  },
  {
   "cell_type": "code",
   "execution_count": 35,
   "id": "98c7875b",
   "metadata": {},
   "outputs": [
    {
     "name": "stdout",
     "output_type": "stream",
     "text": [
      "Match id : 6213067601 Hero name: dawnbreaker Total kills 27\n",
      "\n"
     ]
    }
   ],
   "source": [
    "hero_kill_temp=[]\n",
    "for i in range(1,11):\n",
    "    hero_kill_temp.append(list(df.iloc[df['Player_'+str(i)+'_kills'].argmax(),[0,30*(i-1)+2,30*(i-1)+11]]))\n",
    "\n",
    "hero_kill_sorted = [[a,hero_name[b],c] for a,b,c in sorted(hero_kill_temp, key=lambda item: item[2], reverse = True)]\n",
    "\n",
    "\n",
    "st = 'Match id : '+str(hero_kill_sorted[0][0]) +' Hero name: ' +str(hero_kill_sorted[0][1]) + ' Total kills '+ str(hero_kill_sorted[0][2]) + '\\n'\n",
    "final.append(st)\n",
    "print(st)"
   ]
  },
  {
   "cell_type": "code",
   "execution_count": 36,
   "id": "2e1d8048",
   "metadata": {},
   "outputs": [
    {
     "name": "stdout",
     "output_type": "stream",
     "text": [
      "Match id : 6215317749 Hero name: ogre_magi Total deaths 17\n",
      "\n"
     ]
    }
   ],
   "source": [
    "hero_death_temp=[]\n",
    "for i in range(1,11):\n",
    "    hero_death_temp.append(list(df.iloc[df['Player_'+str(i)+'_deaths'].argmax(),[0,30*(i-1)+2,30*(i-1)+12]]))\n",
    "\n",
    "hero_death_sorted = [[a,hero_name[b],c] for a,b,c in sorted(hero_death_temp, key=lambda item: item[2], reverse = True)]\n",
    "\n",
    "\n",
    "st = 'Match id : '+str(hero_death_sorted[0][0]) +' Hero name: ' +str(hero_death_sorted[0][1]) + ' Total deaths '+ str(hero_death_sorted[0][2]) + '\\n'\n",
    "final.append(st)\n",
    "print(st)"
   ]
  },
  {
   "cell_type": "code",
   "execution_count": 37,
   "id": "12a4201a",
   "metadata": {},
   "outputs": [
    {
     "name": "stdout",
     "output_type": "stream",
     "text": [
      "Match id : 6215226977 Hero name: luna Total GPM 973\n",
      "\n"
     ]
    }
   ],
   "source": [
    "hero_gpm_temp=[]\n",
    "for i in range(1,11):\n",
    "    hero_gpm_temp.append(list(df.iloc[df['Player_'+str(i)+'_gold_per_min'].argmax(),[0,30*(i-1)+2,30*(i-1)+16]]))\n",
    "\n",
    "hero_gpm_sorted = [[a,hero_name[b],c] for a,b,c in sorted(hero_gpm_temp, key=lambda item: item[2], reverse = True)]\n",
    "\n",
    "\n",
    "st = 'Match id : '+str(hero_gpm_sorted[0][0]) +' Hero name: ' +str(hero_gpm_sorted[0][1]) + ' Total GPM '+ str(hero_gpm_sorted[0][2]) + '\\n'\n",
    "final.append(st)\n",
    "print(st)"
   ]
  },
  {
   "cell_type": "code",
   "execution_count": 38,
   "id": "74545d11",
   "metadata": {},
   "outputs": [],
   "source": [
    "file1 = open('../output/Tournament-Analysis-2021.txt','w')\n",
    "file1.writelines(final)\n",
    "file1.close()"
   ]
  }
 ],
 "metadata": {
  "kernelspec": {
   "display_name": "Python 3",
   "language": "python",
   "name": "python3"
  },
  "language_info": {
   "codemirror_mode": {
    "name": "ipython",
    "version": 3
   },
   "file_extension": ".py",
   "mimetype": "text/x-python",
   "name": "python",
   "nbconvert_exporter": "python",
   "pygments_lexer": "ipython3",
   "version": "3.8.8"
  }
 },
 "nbformat": 4,
 "nbformat_minor": 5
}
